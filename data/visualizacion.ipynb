{
 "cells": [
  {
   "cell_type": "code",
   "execution_count": 34,
   "metadata": {},
   "outputs": [],
   "source": [
    "import ee\n",
    "import geemap"
   ]
  },
  {
   "cell_type": "code",
   "execution_count": 35,
   "metadata": {},
   "outputs": [
    {
     "data": {
      "application/vnd.jupyter.widget-view+json": {
       "model_id": "c0e1be148f3f4f99a13310b26dd550ae",
       "version_major": 2,
       "version_minor": 0
      },
      "text/plain": [
       "Map(center=[6.25, -75.6], controls=(WidgetControl(options=['position', 'transparent_bg'], widget=HBox(children…"
      ]
     },
     "metadata": {},
     "output_type": "display_data"
    }
   ],
   "source": [
    "Map = geemap.Map(center=(6.25, -75.6), zoom=11)\n",
    "Map\n"
   ]
  },
  {
   "cell_type": "code",
   "execution_count": 38,
   "metadata": {},
   "outputs": [],
   "source": [
    "# Add Earth Engine dataset\n",
    "dem = ee.Image('USGS/SRTMGL1_003')\n",
    "nicfi = ee.ImageCollection('projects/planet-nicfi/assets/basemaps/americas')\n",
    "planet = nicfi.filter(ee.Filter.date('2021-09-01','2021-12-01')).first()\n",
    "dem_vis = {\n",
    "    'min': 0,\n",
    "    'max': 4000,\n",
    "    'palette': ['006633', 'E5FFCC', '662A00', 'D8D8D8', 'F5F5F5']\n",
    "    }\n",
    "planet_vis = {\"bands\":[\"R\",\"G\",\"B\"],\"min\":64,\"max\":5454,\"gamma\":1.8}"
   ]
  },
  {
   "cell_type": "code",
   "execution_count": 40,
   "metadata": {},
   "outputs": [],
   "source": [
    "# Visualizar Earth Engine dataset\n",
    "Map.add_basemap('Esri National Geographic')\n",
    "Map.addLayer(dem, dem_vis, 'SRTM DEM', True, 0.5)\n",
    "Map.addLayer(planet,planet_vis,'2021-09 Planet')"
   ]
  },
  {
   "cell_type": "code",
   "execution_count": 41,
   "metadata": {},
   "outputs": [],
   "source": [
    "# Convertir shapefile a objeto ee y su visualizacion\n",
    "LaValeria = geemap.shp_to_ee(\"cuenca/LaValeria_WGS84_25K.shp\")\n",
    "Map.addLayer(LaValeria, {}, 'Cuenca La Valeria')"
   ]
  },
  {
   "cell_type": "code",
   "execution_count": 42,
   "metadata": {},
   "outputs": [
    {
     "name": "stdout",
     "output_type": "stream",
     "text": [
      "Generating URL ...\n",
      "Downloading data from https://earthengine.googleapis.com/v1alpha/projects/earthengine-legacy/thumbnails/0b7f6e50574b0f564d30ba44ac001156-d4dee6855fe17d69f74d2f5a707f8ff4:getPixels\n",
      "Please wait ...\n",
      "Data downloaded to /home/caemartinezfo/EarthEngine/data/Imagenplanet.tif\n"
     ]
    }
   ],
   "source": [
    "# Exportar capa de planet de ee como un geoTIFF\n",
    "LaValeriaContour = LaValeria.geometry()\n",
    "geemap.ee_export_image(planet, \"Imagenplanet.tif\", 4.7, crs= \"EPSG:4326\", region=LaValeriaContour)"
   ]
  }
 ],
 "metadata": {
  "interpreter": {
   "hash": "8d32d0dfe2447d37c0e8a1848f687f8b0ea5dbf362991de6aeea11cfe73d17d7"
  },
  "kernelspec": {
   "display_name": "Python 3.10.1 64-bit ('ee': conda)",
   "language": "python",
   "name": "python3"
  },
  "language_info": {
   "codemirror_mode": {
    "name": "ipython",
    "version": 3
   },
   "file_extension": ".py",
   "mimetype": "text/x-python",
   "name": "python",
   "nbconvert_exporter": "python",
   "pygments_lexer": "ipython3",
   "version": "3.10.1"
  },
  "orig_nbformat": 4
 },
 "nbformat": 4,
 "nbformat_minor": 2
}
