{
 "cells": [
  {
   "cell_type": "markdown",
   "metadata": {},
   "source": [
    "<h2>Visualización y descarga de información de Google Earth Engine</h2>"
   ]
  },
  {
   "cell_type": "markdown",
   "metadata": {},
   "source": [
    "Para acceder a la API de Google Earth Engine es necesario instalar el ambiente de trabajo (*envs/ee.yml*) con conda, ya que contiene las dependencias necesarias para trabajar con este tipo de objetos. \n",
    "\n",
    "Todo inicia con la importación de las librerías *ee* y *geemap*, las cuales corresponden a la API de Earth Engine y de visualización de objetos de ee respectivamente."
   ]
  },
  {
   "cell_type": "code",
   "execution_count": 43,
   "metadata": {},
   "outputs": [],
   "source": [
    "import ee\n",
    "import geemap"
   ]
  },
  {
   "cell_type": "markdown",
   "metadata": {},
   "source": [
    "La creación del geovisor se realiza con la función Map de geemap, que contiene como argumentos *center* y *zoom*, mientras el primero corresponde a las coordenadas centrales de visualización, el segundo hace parte del nivel de acercamiento del geovisor."
   ]
  },
  {
   "cell_type": "code",
   "execution_count": 44,
   "metadata": {},
   "outputs": [
    {
     "data": {
      "application/vnd.jupyter.widget-view+json": {
       "model_id": "b7a985d94fd247428a59b7098ed69ae3",
       "version_major": 2,
       "version_minor": 0
      },
      "text/plain": [
       "Map(center=[6.25, -75.6], controls=(WidgetControl(options=['position', 'transparent_bg'], widget=HBox(children…"
      ]
     },
     "metadata": {},
     "output_type": "display_data"
    }
   ],
   "source": [
    "Map = geemap.Map(center=(6.25, -75.6), zoom=11)\n",
    "Map\n"
   ]
  },
  {
   "cell_type": "markdown",
   "metadata": {},
   "source": [
    "Se empiezan a agregar algunos datasets que hacen parte de Earth Engine, entre estos se encuentran un modelo de elevación digital de la USGS-SRTM, una colección de imágenes espectrales de planet con resolución espacial de 4.7 metros. La visualización de estas imágenes presentan como parámetros unos valores de histograma y colores en los objetos llamados _vis."
   ]
  },
  {
   "cell_type": "code",
   "execution_count": 45,
   "metadata": {},
   "outputs": [],
   "source": [
    "# Add Earth Engine dataset\n",
    "dem = ee.Image('USGS/SRTMGL1_003')\n",
    "nicfi = ee.ImageCollection('projects/planet-nicfi/assets/basemaps/americas')\n",
    "planet = nicfi.filter(ee.Filter.date('2021-09-01','2021-12-01')).first()\n",
    "dem_vis = {\n",
    "    'min': 0,\n",
    "    'max': 4000,\n",
    "    'palette': ['006633', 'E5FFCC', '662A00', 'D8D8D8', 'F5F5F5']\n",
    "    }\n",
    "planet_vis = {\"bands\":[\"R\",\"G\",\"B\"],\"min\":64,\"max\":5454,\"gamma\":1.8}"
   ]
  },
  {
   "cell_type": "code",
   "execution_count": 46,
   "metadata": {},
   "outputs": [],
   "source": [
    "# Visualizar Earth Engine dataset\n",
    "Map.add_basemap('Esri National Geographic')\n",
    "Map.addLayer(dem, dem_vis, 'SRTM DEM', True, 0.5)\n",
    "Map.addLayer(planet,planet_vis,'2021-09 Planet')"
   ]
  },
  {
   "cell_type": "markdown",
   "metadata": {},
   "source": [
    "Ahora para visualizar un shapefile que se tenga en la máquina local, se usa la funcionalidad *shp_to_ee* de la librería *geemap*, de este modo se convierte en un objeto tipo *FeautureCollection*, que también es agregado con *addLayer* para el geovisor: *map*. "
   ]
  },
  {
   "cell_type": "code",
   "execution_count": 47,
   "metadata": {},
   "outputs": [],
   "source": [
    "# Convertir shapefile a objeto ee y su visualizacion\n",
    "LaValeria = geemap.shp_to_ee(\"cuenca/LaValeria_WGS84_25K.shp\")\n",
    "Map.addLayer(LaValeria, {}, 'Cuenca La Valeria')"
   ]
  },
  {
   "cell_type": "markdown",
   "metadata": {},
   "source": [
    "Finalmente, si hay interés en exportar la imagen intersectada con algún polígono de interés, se realizada convirtiendo el objeto *FeatureCollection* a *geometry*, de forma que sea interpretable por la función *ee_export_image* de la librería *geemap*."
   ]
  },
  {
   "cell_type": "code",
   "execution_count": 48,
   "metadata": {},
   "outputs": [
    {
     "name": "stdout",
     "output_type": "stream",
     "text": [
      "Generating URL ...\n",
      "Downloading data from https://earthengine.googleapis.com/v1alpha/projects/earthengine-legacy/thumbnails/0b7f6e50574b0f564d30ba44ac001156-2be2173fc1c658df67562498bee760d5:getPixels\n",
      "Please wait ...\n",
      "Data downloaded to /home/caemartinezfo/EarthEngine/data/Imagenplanet.tif\n"
     ]
    }
   ],
   "source": [
    "# Exportar capa de planet de ee como un geoTIFF\n",
    "LaValeriaContour = LaValeria.geometry()\n",
    "geemap.ee_export_image(planet, \"Imagenplanet.tif\", 4.7, crs= \"EPSG:4326\", region=LaValeriaContour)"
   ]
  }
 ],
 "metadata": {
  "interpreter": {
   "hash": "8d32d0dfe2447d37c0e8a1848f687f8b0ea5dbf362991de6aeea11cfe73d17d7"
  },
  "kernelspec": {
   "display_name": "Python 3.10.1 64-bit ('ee': conda)",
   "language": "python",
   "name": "python3"
  },
  "language_info": {
   "codemirror_mode": {
    "name": "ipython",
    "version": 3
   },
   "file_extension": ".py",
   "mimetype": "text/x-python",
   "name": "python",
   "nbconvert_exporter": "python",
   "pygments_lexer": "ipython3",
   "version": "3.10.1"
  },
  "orig_nbformat": 4
 },
 "nbformat": 4,
 "nbformat_minor": 2
}
